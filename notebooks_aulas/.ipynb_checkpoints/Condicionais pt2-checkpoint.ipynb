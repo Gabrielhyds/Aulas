{
  "cells": [
    {
      "cell_type": "markdown",
      "id": "2db89758-c554-4644-86ae-7929a6023cf3",
      "metadata": {
        "id": "2db89758-c554-4644-86ae-7929a6023cf3"
      },
      "source": [
        "# Condicionais pt2\n",
        "\n",
        "[![Open In Colab](https://colab.research.google.com/assets/colab-badge.svg)](https://colab.research.google.com/github/caio-c-silva/introducao_programacao/blob/main/notebooks_aulas/.ipynb_checkpoints/Condicionais%20pt2-checkpoint.ipynb)\n"
      ]
    },
    {
      "cell_type": "markdown",
      "id": "3fd8edea-6043-41ea-8fa5-9e0ec09a13b8",
      "metadata": {
        "id": "3fd8edea-6043-41ea-8fa5-9e0ec09a13b8"
      },
      "source": [
        "A forma geral escrever condicional `if` é:\n",
        "\n",
        "``` python\n",
        "<algum código>\n",
        "if <condicional>:\n",
        "    <faça alguma coisa>\n",
        "<algum código>\n",
        "```\n",
        "\n",
        "Essa condicional pode ser a combinação de mais de uma expressão usando os operadores booleanos `and` e `or`.\n",
        "\n",
        "No exercício da aula passada, era necessario avaliar se o valor do IMC estava entre 18.5 e 24.9.\n",
        "\n",
        "Existem duas formas de verificar isso:\n",
        "\n",
        "- Uma única expressão:\n",
        "\n",
        "``` python\n",
        "18.5 < imc < 24.9\n",
        "```\n",
        "\n",
        "- Combinação de expressões:\n",
        "\n",
        "``` python\n",
        "imc > 18.5 and imc < 24.9\n",
        "```"
      ]
    },
    {
      "cell_type": "markdown",
      "id": "e05a2eca-ac3d-416c-97b9-c8bb9752e7b4",
      "metadata": {
        "id": "e05a2eca-ac3d-416c-97b9-c8bb9752e7b4"
      },
      "source": [
        "## `elif` e `else`\n",
        "\n",
        "Pense na seguinte situação:\n",
        "\n",
        "> Se estiver sol, vou a pé para o trabalho; se estiver nublado, pegarei um guarda-chuva e caminharei para o trabalho; mas caso contrário, eu vou dirigir\n",
        "\n",
        "Em situações como essa, onde se tem mais de uma condição independente, é possível utilizar as palavras chave `elif` e `else`.\n",
        "\n"
      ]
    },
    {
      "cell_type": "code",
      "execution_count": null,
      "id": "9bdcc28b-c9b8-42c3-af74-062eae94aadd",
      "metadata": {
        "id": "9bdcc28b-c9b8-42c3-af74-062eae94aadd"
      },
      "outputs": [],
      "source": [
        "clima = input('Como está o clima: Ensolarado, Nublado ou Chuvoso?')\n",
        "\n",
        "if clima.lower() == 'ensolarado':\n",
        "    \n",
        "    print('Vou a pé para o trabalho')\n",
        "\n",
        "elif clima.lower() == 'nublado':\n",
        "    \n",
        "    print('Vou a pé para o trabalho, mas vou levar um guarda-chuva')\n",
        "    \n",
        "else:\n",
        "    \n",
        "    print('Vou de carro para o trabalho')"
      ]
    },
    {
      "cell_type": "markdown",
      "id": "a0664858-da39-47ce-b7ab-cddc12b5a4c9",
      "metadata": {
        "id": "a0664858-da39-47ce-b7ab-cddc12b5a4c9"
      },
      "source": [
        "## Exercício \n",
        "\n",
        "1. Crie um programa que avalia se um número entre 1 e 5, fornecido pelo usuário, é um número primo\n",
        "\n",
        "2. Crie um programa que receba dois números do usuário e imprima a relação entre eles (iguais, o primeiro maior que o segundo ou o primeiro menor que o segundo)\n",
        "\n",
        "3. Crie um programa para jogar par ou ímpar com o computador. (**NÃO** pode usar o operador `+`)\n",
        "\n",
        "4. Escreva um programa que receba a temperatura em graus Celsius da água e verifica em qual estado de fase a água se encontra (considere a pressão ambiente ao nível do mar)\n",
        "\n",
        "5. Escreva um programa para verificar se um caractere é vogal ou não"
      ]
    },
    {
      "cell_type": "code",
      "source": [
        "# exercicio 1\n",
        "var_primo  = int(input(\"Digite um número entre 1 e 5: \"))\n",
        "\n",
        "if(var_primo == 1 or var_primo == 4):\n",
        "  print(\"o numero não é primo\")\n",
        "else:\n",
        "  print(\"O numero é primo\")"
      ],
      "metadata": {
        "id": "atm6cKIof9HM",
        "outputId": "0c70913e-d07c-4295-f724-8209e086e8ba",
        "colab": {
          "base_uri": "https://localhost:8080/"
        }
      },
      "id": "atm6cKIof9HM",
      "execution_count": 52,
      "outputs": [
        {
          "output_type": "stream",
          "name": "stdout",
          "text": [
            "Digite um número entre 1 e 5: 7\n",
            "O numero é primo\n"
          ]
        }
      ]
    },
    {
      "cell_type": "code",
      "source": [
        "#Crie um programa que receba dois números do usuário e imprima a relação entre eles (iguais, o primeiro maior que o segundo ou o primeiro menor que o segundo)\n",
        "\n",
        "var_num1 = int(input(\"Digite um número: \"))\n",
        "var_num2 = int(input(\"Digite um outro número: \"))\n",
        "\n",
        "if(var_num1 == var_num2):\n",
        "  print(f\"O número {var_num1} e {var_num2} são iguais\")\n",
        "elif(var_num1 > var_num2):\n",
        "  print(f\"O número {var_num1} é maior {var_num2} \")\n",
        "elif(var_num1 < var_num2):\n",
        "  print(f\"O número {var_num1} é menor {var_num2} \")"
      ],
      "metadata": {
        "id": "HjY10eH-ge1D",
        "outputId": "82015a00-4897-4dc5-d7f0-c53048255bc9",
        "colab": {
          "base_uri": "https://localhost:8080/"
        }
      },
      "id": "HjY10eH-ge1D",
      "execution_count": 21,
      "outputs": [
        {
          "output_type": "stream",
          "name": "stdout",
          "text": [
            "Digite um número: 10\n",
            "Digite um outro número: 20\n",
            "O número 10 é menor 20 \n"
          ]
        }
      ]
    },
    {
      "cell_type": "code",
      "source": [
        "#Escreva um programa para verificar se um caractere é vogal ou não\n",
        "\n",
        "vogal = ['a','e','i','o','u']\n",
        "\n",
        "var_verifica = str(input(\"Digite apenas uma letra: \"))\n",
        "\n",
        "if(var_verifica.lower() == vogal[0] or\n",
        "   var_verifica.lower() == vogal[1] or \n",
        "   var_verifica.lower() == vogal[2] or \n",
        "   var_verifica.lower() == vogal[3] or\n",
        "   var_verifica.lower() == vogal):\n",
        "  \n",
        "  print(\"Essa letra é uma VOGAL\")\n",
        "else:\n",
        "  print(\"Essa letra é uma CONSOANTE\")\n"
      ],
      "metadata": {
        "id": "dzTdkJTBi_es",
        "outputId": "1e4b5c75-c299-4b6b-92ee-4926638da957",
        "colab": {
          "base_uri": "https://localhost:8080/",
          "height": 380
        }
      },
      "id": "dzTdkJTBi_es",
      "execution_count": 57,
      "outputs": [
        {
          "output_type": "error",
          "ename": "KeyboardInterrupt",
          "evalue": "ignored",
          "traceback": [
            "\u001b[0;31m---------------------------------------------------------------------------\u001b[0m",
            "\u001b[0;31mKeyboardInterrupt\u001b[0m                         Traceback (most recent call last)",
            "\u001b[0;32m<ipython-input-57-9fa5728dbca1>\u001b[0m in \u001b[0;36m<module>\u001b[0;34m\u001b[0m\n\u001b[1;32m      3\u001b[0m \u001b[0mvogal\u001b[0m \u001b[0;34m=\u001b[0m \u001b[0;34m[\u001b[0m\u001b[0;34m'a'\u001b[0m\u001b[0;34m,\u001b[0m\u001b[0;34m'e'\u001b[0m\u001b[0;34m,\u001b[0m\u001b[0;34m'i'\u001b[0m\u001b[0;34m,\u001b[0m\u001b[0;34m'o'\u001b[0m\u001b[0;34m,\u001b[0m\u001b[0;34m'u'\u001b[0m\u001b[0;34m]\u001b[0m\u001b[0;34m\u001b[0m\u001b[0;34m\u001b[0m\u001b[0m\n\u001b[1;32m      4\u001b[0m \u001b[0;34m\u001b[0m\u001b[0m\n\u001b[0;32m----> 5\u001b[0;31m \u001b[0mvar_verifica\u001b[0m \u001b[0;34m=\u001b[0m \u001b[0mstr\u001b[0m\u001b[0;34m(\u001b[0m\u001b[0minput\u001b[0m\u001b[0;34m(\u001b[0m\u001b[0;34m\"Digite apenas uma letra: \"\u001b[0m\u001b[0;34m)\u001b[0m\u001b[0;34m)\u001b[0m\u001b[0;34m\u001b[0m\u001b[0;34m\u001b[0m\u001b[0m\n\u001b[0m\u001b[1;32m      6\u001b[0m \u001b[0;34m\u001b[0m\u001b[0m\n\u001b[1;32m      7\u001b[0m if(var_verifica.lower() == vogal[0] or\n",
            "\u001b[0;32m/usr/local/lib/python3.8/dist-packages/ipykernel/kernelbase.py\u001b[0m in \u001b[0;36mraw_input\u001b[0;34m(self, prompt)\u001b[0m\n\u001b[1;32m    858\u001b[0m                 \u001b[0;34m\"raw_input was called, but this frontend does not support input requests.\"\u001b[0m\u001b[0;34m\u001b[0m\u001b[0;34m\u001b[0m\u001b[0m\n\u001b[1;32m    859\u001b[0m             )\n\u001b[0;32m--> 860\u001b[0;31m         return self._input_request(str(prompt),\n\u001b[0m\u001b[1;32m    861\u001b[0m             \u001b[0mself\u001b[0m\u001b[0;34m.\u001b[0m\u001b[0m_parent_ident\u001b[0m\u001b[0;34m,\u001b[0m\u001b[0;34m\u001b[0m\u001b[0;34m\u001b[0m\u001b[0m\n\u001b[1;32m    862\u001b[0m             \u001b[0mself\u001b[0m\u001b[0;34m.\u001b[0m\u001b[0m_parent_header\u001b[0m\u001b[0;34m,\u001b[0m\u001b[0;34m\u001b[0m\u001b[0;34m\u001b[0m\u001b[0m\n",
            "\u001b[0;32m/usr/local/lib/python3.8/dist-packages/ipykernel/kernelbase.py\u001b[0m in \u001b[0;36m_input_request\u001b[0;34m(self, prompt, ident, parent, password)\u001b[0m\n\u001b[1;32m    902\u001b[0m             \u001b[0;32mexcept\u001b[0m \u001b[0mKeyboardInterrupt\u001b[0m\u001b[0;34m:\u001b[0m\u001b[0;34m\u001b[0m\u001b[0;34m\u001b[0m\u001b[0m\n\u001b[1;32m    903\u001b[0m                 \u001b[0;31m# re-raise KeyboardInterrupt, to truncate traceback\u001b[0m\u001b[0;34m\u001b[0m\u001b[0;34m\u001b[0m\u001b[0;34m\u001b[0m\u001b[0m\n\u001b[0;32m--> 904\u001b[0;31m                 \u001b[0;32mraise\u001b[0m \u001b[0mKeyboardInterrupt\u001b[0m\u001b[0;34m(\u001b[0m\u001b[0;34m\"Interrupted by user\"\u001b[0m\u001b[0;34m)\u001b[0m \u001b[0;32mfrom\u001b[0m \u001b[0;32mNone\u001b[0m\u001b[0;34m\u001b[0m\u001b[0;34m\u001b[0m\u001b[0m\n\u001b[0m\u001b[1;32m    905\u001b[0m             \u001b[0;32mexcept\u001b[0m \u001b[0mException\u001b[0m \u001b[0;32mas\u001b[0m \u001b[0me\u001b[0m\u001b[0;34m:\u001b[0m\u001b[0;34m\u001b[0m\u001b[0;34m\u001b[0m\u001b[0m\n\u001b[1;32m    906\u001b[0m                 \u001b[0mself\u001b[0m\u001b[0;34m.\u001b[0m\u001b[0mlog\u001b[0m\u001b[0;34m.\u001b[0m\u001b[0mwarning\u001b[0m\u001b[0;34m(\u001b[0m\u001b[0;34m\"Invalid Message:\"\u001b[0m\u001b[0;34m,\u001b[0m \u001b[0mexc_info\u001b[0m\u001b[0;34m=\u001b[0m\u001b[0;32mTrue\u001b[0m\u001b[0;34m)\u001b[0m\u001b[0;34m\u001b[0m\u001b[0;34m\u001b[0m\u001b[0m\n",
            "\u001b[0;31mKeyboardInterrupt\u001b[0m: Interrupted by user"
          ]
        }
      ]
    },
    {
      "cell_type": "code",
      "source": [
        "#Crie um programa para jogar par ou ímpar com o computador. (NÃO pode usar o operador +)\n",
        "\n",
        "from random import randint\n",
        "\n",
        "adversario = randint(1, 10)\n",
        "resultado_parImpar = input(\"Escolha um Par ou Impar: \")\n",
        "eu = int(input(\"Digite seu número: \"))\n",
        "\n",
        "\n",
        "result =  adversario % 2\n",
        "result2 = eu % 2\n",
        "\n",
        "\n",
        "if(resultado_parImpar == \"par\" and result == result2):\n",
        "      print(\"é par você ganhou!!\")\n",
        "elif(resultado_parImpar == \"impar\" and result != result2):\n",
        "      print(\"é par você ganhou!!\")     \n"
      ],
      "metadata": {
        "id": "fW7RdB_lkXzc"
      },
      "id": "fW7RdB_lkXzc",
      "execution_count": null,
      "outputs": []
    },
    {
      "cell_type": "code",
      "source": [
        "#Escreva um programa que receba a temperatura em graus Celsius da água e verifica em qual estado de fase a água se encontra (considere a pressão ambiente ao nível do mar)\n",
        "\n",
        "temp_celcius = float(input(\"Digite uma temperatura: \"))\n",
        "\n",
        "if( temp_calcius >= )\n"
      ],
      "metadata": {
        "id": "mB3kz_gYnhUV"
      },
      "id": "mB3kz_gYnhUV",
      "execution_count": null,
      "outputs": []
    }
  ],
  "metadata": {
    "kernelspec": {
      "display_name": "Python 3 (ipykernel)",
      "language": "python",
      "name": "python3"
    },
    "language_info": {
      "codemirror_mode": {
        "name": "ipython",
        "version": 3
      },
      "file_extension": ".py",
      "mimetype": "text/x-python",
      "name": "python",
      "nbconvert_exporter": "python",
      "pygments_lexer": "ipython3",
      "version": "3.11.0"
    },
    "colab": {
      "provenance": []
    }
  },
  "nbformat": 4,
  "nbformat_minor": 5
}