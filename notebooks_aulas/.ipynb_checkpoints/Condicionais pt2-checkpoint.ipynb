{
  "cells": [
    {
      "cell_type": "markdown",
      "id": "2db89758-c554-4644-86ae-7929a6023cf3",
      "metadata": {
        "id": "2db89758-c554-4644-86ae-7929a6023cf3"
      },
      "source": [
        "# Condicionais pt2\n",
        "\n",
        "[![Open In Colab](https://colab.research.google.com/assets/colab-badge.svg)](https://colab.research.google.com/github/caio-c-silva/introducao_programacao/blob/main/notebooks_aulas/.ipynb_checkpoints/Condicionais%20pt2-checkpoint.ipynb)\n"
      ]
    },
    {
      "cell_type": "markdown",
      "id": "3fd8edea-6043-41ea-8fa5-9e0ec09a13b8",
      "metadata": {
        "id": "3fd8edea-6043-41ea-8fa5-9e0ec09a13b8"
      },
      "source": [
        "A forma geral escrever condicional `if` é:\n",
        "\n",
        "``` python\n",
        "<algum código>\n",
        "if <condicional>:\n",
        "    <faça alguma coisa>\n",
        "<algum código>\n",
        "```\n",
        "\n",
        "Essa condicional pode ser a combinação de mais de uma expressão usando os operadores booleanos `and` e `or`.\n",
        "\n",
        "No exercício da aula passada, era necessario avaliar se o valor do IMC estava entre 18.5 e 24.9.\n",
        "\n",
        "Existem duas formas de verificar isso:\n",
        "\n",
        "- Uma única expressão:\n",
        "\n",
        "``` python\n",
        "18.5 < imc < 24.9\n",
        "```\n",
        "\n",
        "- Combinação de expressões:\n",
        "\n",
        "``` python\n",
        "imc > 18.5 and imc < 24.9\n",
        "```"
      ]
    },
    {
      "cell_type": "markdown",
      "id": "e05a2eca-ac3d-416c-97b9-c8bb9752e7b4",
      "metadata": {
        "id": "e05a2eca-ac3d-416c-97b9-c8bb9752e7b4"
      },
      "source": [
        "## `elif` e `else`\n",
        "\n",
        "Pense na seguinte situação:\n",
        "\n",
        "> Se estiver sol, vou a pé para o trabalho; se estiver nublado, pegarei um guarda-chuva e caminharei para o trabalho; mas caso contrário, eu vou dirigir\n",
        "\n",
        "Em situações como essa, onde se tem mais de uma condição independente, é possível utilizar as palavras chave `elif` e `else`.\n",
        "\n"
      ]
    },
    {
      "cell_type": "code",
      "execution_count": null,
      "id": "9bdcc28b-c9b8-42c3-af74-062eae94aadd",
      "metadata": {
        "id": "9bdcc28b-c9b8-42c3-af74-062eae94aadd"
      },
      "outputs": [],
      "source": [
        "clima = input('Como está o clima: Ensolarado, Nublado ou Chuvoso?')\n",
        "\n",
        "if clima.lower() == 'ensolarado':\n",
        "    \n",
        "    print('Vou a pé para o trabalho')\n",
        "\n",
        "elif clima.lower() == 'nublado':\n",
        "    \n",
        "    print('Vou a pé para o trabalho, mas vou levar um guarda-chuva')\n",
        "    \n",
        "else:\n",
        "    \n",
        "    print('Vou de carro para o trabalho')"
      ]
    },
    {
      "cell_type": "markdown",
      "id": "a0664858-da39-47ce-b7ab-cddc12b5a4c9",
      "metadata": {
        "id": "a0664858-da39-47ce-b7ab-cddc12b5a4c9"
      },
      "source": [
        "## Exercício \n",
        "\n",
        "1. Crie um programa que avalia se um número entre 1 e 5, fornecido pelo usuário, é um número primo\n",
        "\n",
        "2. Crie um programa que receba dois números do usuário e imprima a relação entre eles (iguais, o primeiro maior que o segundo ou o primeiro menor que o segundo)\n",
        "\n",
        "3. Crie um programa para jogar par ou ímpar com o computador. (**NÃO** pode usar o operador `+`)\n",
        "\n",
        "4. Escreva um programa que receba a temperatura em graus Celsius da água e verifica em qual estado de fase a água se encontra (considere a pressão ambiente ao nível do mar)\n",
        "\n",
        "5. Escreva um programa para verificar se um caractere é vogal ou não"
      ]
    },
    {
      "cell_type": "code",
      "source": [
        "#Crie um programa para jogar par ou ímpar com o computador. (NÃO pode usar o operador +)\n",
        "\n",
        "from random import randint\n",
        "\n",
        "#variaveis\n",
        "adversario = randint(1,10)\n",
        "parOuImpar = str(input(\"Digite Par ou Impar... \"))\n",
        "jogador1 = int(input(\"Digite seu número... \"))\n",
        "paridade = \"par\"\n",
        "\n",
        "#Possiveis contas\n",
        "\n",
        "resultado_1 = adversario % 2\n",
        "resultado_2 = jogador1 % 2\n",
        "soma = jogador1 + adversario\n",
        "\n",
        "#decisões\n",
        "if(parOuImpar == \"impar\" and resultado_1 != resultado_2):\n",
        "    print(f\"\\nDeu impar você ganhou, o resultado deu {soma}\")\n",
        "elif(parOuImpar == \"par\" and resultado_1 == resultado_2):\n",
        "      print(f\"\\n você ganhou {soma}\")\n",
        "else:\n",
        "  print(f\"você perdeu {soma}\")"
      ],
      "metadata": {
        "id": "Ac0K1P0Z-GI9",
        "outputId": "035c975d-fb45-4d6c-9057-1226616d2df8",
        "colab": {
          "base_uri": "https://localhost:8080/"
        }
      },
      "id": "Ac0K1P0Z-GI9",
      "execution_count": 214,
      "outputs": [
        {
          "output_type": "stream",
          "name": "stdout",
          "text": [
            "Digite Par ou Impar... impar\n",
            "Digite seu número... 3\n",
            "\n",
            "Deu impar você ganhou, o resultado deu 9\n"
          ]
        }
      ]
    },
    {
      "cell_type": "code",
      "source": [],
      "metadata": {
        "id": "XWNPooPyEI9h"
      },
      "id": "XWNPooPyEI9h",
      "execution_count": 149,
      "outputs": []
    }
  ],
  "metadata": {
    "kernelspec": {
      "display_name": "Python 3 (ipykernel)",
      "language": "python",
      "name": "python3"
    },
    "language_info": {
      "codemirror_mode": {
        "name": "ipython",
        "version": 3
      },
      "file_extension": ".py",
      "mimetype": "text/x-python",
      "name": "python",
      "nbconvert_exporter": "python",
      "pygments_lexer": "ipython3",
      "version": "3.11.0"
    },
    "colab": {
      "provenance": []
    }
  },
  "nbformat": 4,
  "nbformat_minor": 5
}